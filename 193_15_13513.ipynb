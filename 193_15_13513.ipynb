{
  "nbformat": 4,
  "nbformat_minor": 0,
  "metadata": {
    "colab": {
      "provenance": []
    },
    "kernelspec": {
      "name": "python3",
      "display_name": "Python 3"
    },
    "language_info": {
      "name": "python"
    }
  },
  "cells": [
    {
      "cell_type": "code",
      "execution_count": 1,
      "metadata": {
        "colab": {
          "base_uri": "https://localhost:8080/"
        },
        "id": "-ykvrk8N2vm1",
        "outputId": "50b7438b-a795-4606-a87a-da6c64d88b1e"
      },
      "outputs": [
        {
          "output_type": "stream",
          "name": "stdout",
          "text": [
            "\r0% [Working]\r            \rGet:1 https://cloud.r-project.org/bin/linux/ubuntu bionic-cran40/ InRelease [3,626 B]\n",
            "\r0% [Connecting to archive.ubuntu.com] [Connecting to security.ubuntu.com (185.1\r0% [Connecting to archive.ubuntu.com] [Connecting to security.ubuntu.com (185.1\r0% [1 InRelease gpgv 3,626 B] [Connecting to archive.ubuntu.com] [Connecting to\r                                                                               \rIgn:2 https://developer.download.nvidia.com/compute/machine-learning/repos/ubuntu1804/x86_64  InRelease\n",
            "\r0% [1 InRelease gpgv 3,626 B] [Connecting to archive.ubuntu.com (185.125.190.39\r                                                                               \rHit:3 https://developer.download.nvidia.com/compute/cuda/repos/ubuntu1804/x86_64  InRelease\n",
            "Hit:4 https://developer.download.nvidia.com/compute/machine-learning/repos/ubuntu1804/x86_64  Release\n",
            "Get:5 http://security.ubuntu.com/ubuntu bionic-security InRelease [88.7 kB]\n",
            "Hit:6 http://archive.ubuntu.com/ubuntu bionic InRelease\n",
            "Get:7 http://ppa.launchpad.net/c2d4u.team/c2d4u4.0+/ubuntu bionic InRelease [15.9 kB]\n",
            "Get:8 http://archive.ubuntu.com/ubuntu bionic-updates InRelease [88.7 kB]\n",
            "Hit:9 http://ppa.launchpad.net/cran/libgit2/ubuntu bionic InRelease\n",
            "Get:11 http://archive.ubuntu.com/ubuntu bionic-backports InRelease [74.6 kB]\n",
            "Hit:12 http://ppa.launchpad.net/deadsnakes/ppa/ubuntu bionic InRelease\n",
            "Hit:13 http://ppa.launchpad.net/graphics-drivers/ppa/ubuntu bionic InRelease\n",
            "Get:14 http://ppa.launchpad.net/c2d4u.team/c2d4u4.0+/ubuntu bionic/main Sources [2,105 kB]\n",
            "Get:15 http://security.ubuntu.com/ubuntu bionic-security/main amd64 Packages [2,965 kB]\n",
            "Get:16 http://archive.ubuntu.com/ubuntu bionic-updates/universe amd64 Packages [2,318 kB]\n",
            "Get:17 http://security.ubuntu.com/ubuntu bionic-security/universe amd64 Packages [1,540 kB]\n",
            "Get:18 http://ppa.launchpad.net/c2d4u.team/c2d4u4.0+/ubuntu bionic/main amd64 Packages [1,079 kB]\n",
            "Get:19 http://archive.ubuntu.com/ubuntu bionic-updates/main amd64 Packages [3,397 kB]\n",
            "Fetched 13.7 MB in 4s (3,574 kB/s)\n",
            "Reading package lists... Done\n"
          ]
        }
      ],
      "source": [
        "!apt-get update\n",
        "!apt-get install openjdk-8-jdk-headless -qq > /dev/null\n",
        "!wget -q http://archive.apache.org/dist/spark/spark-3.1.1/spark-3.1.1-bin-hadoop3.2.tgz\n",
        "!tar xf spark-3.1.1-bin-hadoop3.2.tgz\n",
        "!pip install -q findspark"
      ]
    },
    {
      "cell_type": "code",
      "source": [
        "import os\n",
        "os.environ[\"JAVA_HOME\"] = \"/usr/lib/jvm/java-8-openjdk-amd64\"\n",
        "os.environ[\"SPARK_HOME\"] = \"/content/spark-3.1.1-bin-hadoop3.2\""
      ],
      "metadata": {
        "id": "MH_xPQi8Gl0a"
      },
      "execution_count": 2,
      "outputs": []
    },
    {
      "cell_type": "code",
      "source": [
        "import findspark\n",
        "findspark.init()\n",
        "from pyspark.sql import SparkSession\n",
        "spark = SparkSession.builder.master(\"local[*]\").getOrCreate()\n",
        "spark.conf.set(\"spark.sql.repl.eagerEval.enabled\", True) # Property used to format output tables better\n",
        "spark\n"
      ],
      "metadata": {
        "colab": {
          "base_uri": "https://localhost:8080/",
          "height": 219
        },
        "id": "2y5ooOmrGxXW",
        "outputId": "4a5916f9-cd4a-4c70-b4f9-e637bde06bc2"
      },
      "execution_count": 3,
      "outputs": [
        {
          "output_type": "execute_result",
          "data": {
            "text/plain": [
              "<pyspark.sql.session.SparkSession at 0x7f8c4f931950>"
            ],
            "text/html": [
              "\n",
              "            <div>\n",
              "                <p><b>SparkSession - in-memory</b></p>\n",
              "                \n",
              "        <div>\n",
              "            <p><b>SparkContext</b></p>\n",
              "\n",
              "            <p><a href=\"http://af5f2bd5f166:4040\">Spark UI</a></p>\n",
              "\n",
              "            <dl>\n",
              "              <dt>Version</dt>\n",
              "                <dd><code>v3.1.1</code></dd>\n",
              "              <dt>Master</dt>\n",
              "                <dd><code>local[*]</code></dd>\n",
              "              <dt>AppName</dt>\n",
              "                <dd><code>pyspark-shell</code></dd>\n",
              "            </dl>\n",
              "        </div>\n",
              "        \n",
              "            </div>\n",
              "        "
            ]
          },
          "metadata": {},
          "execution_count": 3
        }
      ]
    },
    {
      "cell_type": "code",
      "source": [
        "df1 = spark.createDataFrame([('2022-09-10 3:12:59',)], ['DOB'])\n",
        "df1.show()\n",
        "from pyspark.sql.functions import to_date, to_timestamp\n",
        "df1.select(df1.DOB, to_date(df1.DOB)).show()\n",
        "df1.withColumn(\"Age\",datediff(current_date, to_date)/365).show()\n",
        "#df1.show()"
      ],
      "metadata": {
        "colab": {
          "base_uri": "https://localhost:8080/",
          "height": 425
        },
        "id": "QjWiFo-6G0yH",
        "outputId": "e9c0baf1-0040-473c-88e1-84ba3c1a8392"
      },
      "execution_count": 30,
      "outputs": [
        {
          "output_type": "stream",
          "name": "stdout",
          "text": [
            "+------------------+\n",
            "|               DOB|\n",
            "+------------------+\n",
            "|2022-09-10 3:12:59|\n",
            "+------------------+\n",
            "\n",
            "+------------------+------------+\n",
            "|               DOB|to_date(DOB)|\n",
            "+------------------+------------+\n",
            "|2022-09-10 3:12:59|  2022-09-10|\n",
            "+------------------+------------+\n",
            "\n"
          ]
        },
        {
          "output_type": "error",
          "ename": "NameError",
          "evalue": "ignored",
          "traceback": [
            "\u001b[0;31m---------------------------------------------------------------------------\u001b[0m",
            "\u001b[0;31mNameError\u001b[0m                                 Traceback (most recent call last)",
            "\u001b[0;32m<ipython-input-30-27533346b402>\u001b[0m in \u001b[0;36m<module>\u001b[0;34m\u001b[0m\n\u001b[1;32m      3\u001b[0m \u001b[0;32mfrom\u001b[0m \u001b[0mpyspark\u001b[0m\u001b[0;34m.\u001b[0m\u001b[0msql\u001b[0m\u001b[0;34m.\u001b[0m\u001b[0mfunctions\u001b[0m \u001b[0;32mimport\u001b[0m \u001b[0mto_date\u001b[0m\u001b[0;34m,\u001b[0m \u001b[0mto_timestamp\u001b[0m\u001b[0;34m\u001b[0m\u001b[0;34m\u001b[0m\u001b[0m\n\u001b[1;32m      4\u001b[0m \u001b[0mdf1\u001b[0m\u001b[0;34m.\u001b[0m\u001b[0mselect\u001b[0m\u001b[0;34m(\u001b[0m\u001b[0mdf1\u001b[0m\u001b[0;34m.\u001b[0m\u001b[0mDOB\u001b[0m\u001b[0;34m,\u001b[0m \u001b[0mto_date\u001b[0m\u001b[0;34m(\u001b[0m\u001b[0mdf1\u001b[0m\u001b[0;34m.\u001b[0m\u001b[0mDOB\u001b[0m\u001b[0;34m)\u001b[0m\u001b[0;34m)\u001b[0m\u001b[0;34m.\u001b[0m\u001b[0mshow\u001b[0m\u001b[0;34m(\u001b[0m\u001b[0;34m)\u001b[0m\u001b[0;34m\u001b[0m\u001b[0;34m\u001b[0m\u001b[0m\n\u001b[0;32m----> 5\u001b[0;31m \u001b[0mdf1\u001b[0m\u001b[0;34m.\u001b[0m\u001b[0mwithColumn\u001b[0m\u001b[0;34m(\u001b[0m\u001b[0;34m\"Age\"\u001b[0m\u001b[0;34m,\u001b[0m\u001b[0mdatediff\u001b[0m\u001b[0;34m(\u001b[0m\u001b[0mcurrent_date\u001b[0m\u001b[0;34m,\u001b[0m \u001b[0mto_date\u001b[0m\u001b[0;34m)\u001b[0m\u001b[0;34m/\u001b[0m\u001b[0;36m365\u001b[0m\u001b[0;34m)\u001b[0m\u001b[0;34m.\u001b[0m\u001b[0mshow\u001b[0m\u001b[0;34m(\u001b[0m\u001b[0;34m)\u001b[0m\u001b[0;34m\u001b[0m\u001b[0;34m\u001b[0m\u001b[0m\n\u001b[0m\u001b[1;32m      6\u001b[0m \u001b[0;31m#df1.show()\u001b[0m\u001b[0;34m\u001b[0m\u001b[0;34m\u001b[0m\u001b[0;34m\u001b[0m\u001b[0m\n",
            "\u001b[0;31mNameError\u001b[0m: name 'datediff' is not defined"
          ]
        }
      ]
    },
    {
      "cell_type": "code",
      "source": [
        "emp = [(1, \"A\", \"2018\", \"M\", \"10\", 30000), (2, \"B\", \"2010\", \"M\", \"30\", 40000), (3, \"C\", \"2010\", \"M\", \"20\", 10000), \\\n",
        "       (4, \"D\", \"2005\", \"F\", \"40\", 20000), (5, \"E\", \"2010\", \"M\", \"20\", 12000), (6, \"F\", \"2010\", \"M\", \"10\", 28000), \\\n",
        "       (7, \"G\", \"2015\", \"M\", \"40\", 11000), (8, \"H\", \"2010\", \"F\", \"30\", 22000), (9, \"I\", \"2012\", \"F\", \"40\", 32000),\\\n",
        "       (10, \"J\", \"2010\", \"F\", \"30\", 42000)\n",
        "  ]\n",
        "empColumns = [\"emp_id\",\"name\",\"year_joined\", \\\n",
        "       \"gender\",\"emp_dept_id\",\"salary\"]\n",
        "\n",
        "empDF = spark.createDataFrame(data=emp, schema = empColumns)\n",
        "empDF.printSchema()\n",
        "empDF.show()"
      ],
      "metadata": {
        "colab": {
          "base_uri": "https://localhost:8080/"
        },
        "id": "9UbEcIlMcBJj",
        "outputId": "f4001e67-57bf-4f17-cf89-993fda69e9f8"
      },
      "execution_count": 55,
      "outputs": [
        {
          "output_type": "stream",
          "name": "stdout",
          "text": [
            "root\n",
            " |-- emp_id: long (nullable = true)\n",
            " |-- name: string (nullable = true)\n",
            " |-- year_joined: string (nullable = true)\n",
            " |-- gender: string (nullable = true)\n",
            " |-- emp_dept_id: string (nullable = true)\n",
            " |-- salary: long (nullable = true)\n",
            "\n",
            "+------+----+-----------+------+-----------+------+\n",
            "|emp_id|name|year_joined|gender|emp_dept_id|salary|\n",
            "+------+----+-----------+------+-----------+------+\n",
            "|     1|   A|       2018|     M|         10| 30000|\n",
            "|     2|   B|       2010|     M|         30| 40000|\n",
            "|     3|   C|       2010|     M|         20| 10000|\n",
            "|     4|   D|       2005|     F|         40| 20000|\n",
            "|     5|   E|       2010|     M|         20| 12000|\n",
            "|     6|   F|       2010|     M|         10| 28000|\n",
            "|     7|   G|       2015|     M|         40| 11000|\n",
            "|     8|   H|       2010|     F|         30| 22000|\n",
            "|     9|   I|       2012|     F|         40| 32000|\n",
            "|    10|   J|       2010|     F|         30| 42000|\n",
            "+------+----+-----------+------+-----------+------+\n",
            "\n"
          ]
        }
      ]
    },
    {
      "cell_type": "code",
      "source": [
        "dept = [(\"Finance\",10), (\"Marketing\",20), (\"Sales\",30), (\"IT\",40)]\n",
        "deptColumns = [\"dept_name\",\"dept_id\"]\n",
        "deptDF = spark.createDataFrame(data=dept, schema = deptColumns)\n",
        "deptDF.printSchema()\n",
        "deptDF.show()"
      ],
      "metadata": {
        "colab": {
          "base_uri": "https://localhost:8080/"
        },
        "id": "ZmnONNIahXF4",
        "outputId": "1fc77ea9-daff-44b7-884f-b0dc1c968404"
      },
      "execution_count": 57,
      "outputs": [
        {
          "output_type": "stream",
          "name": "stdout",
          "text": [
            "root\n",
            " |-- dept_name: string (nullable = true)\n",
            " |-- dept_id: long (nullable = true)\n",
            "\n",
            "+---------+-------+\n",
            "|dept_name|dept_id|\n",
            "+---------+-------+\n",
            "|  Finance|     10|\n",
            "|Marketing|     20|\n",
            "|    Sales|     30|\n",
            "|       IT|     40|\n",
            "+---------+-------+\n",
            "\n"
          ]
        }
      ]
    },
    {
      "cell_type": "code",
      "source": [
        "# Inner Join\n",
        "\n",
        "empDF.join(deptDF,empDF.emp_dept_id ==  deptDF.dept_id,\"inner\").show()"
      ],
      "metadata": {
        "colab": {
          "base_uri": "https://localhost:8080/"
        },
        "id": "ZrllI9F8hqv5",
        "outputId": "f49a8558-bfbb-4a7c-e573-f7821b01c70e"
      },
      "execution_count": 58,
      "outputs": [
        {
          "output_type": "stream",
          "name": "stdout",
          "text": [
            "+------+----+-----------+------+-----------+------+---------+-------+\n",
            "|emp_id|name|year_joined|gender|emp_dept_id|salary|dept_name|dept_id|\n",
            "+------+----+-----------+------+-----------+------+---------+-------+\n",
            "|     1|   A|       2018|     M|         10| 30000|  Finance|     10|\n",
            "|     6|   F|       2010|     M|         10| 28000|  Finance|     10|\n",
            "|     2|   B|       2010|     M|         30| 40000|    Sales|     30|\n",
            "|     8|   H|       2010|     F|         30| 22000|    Sales|     30|\n",
            "|    10|   J|       2010|     F|         30| 42000|    Sales|     30|\n",
            "|     3|   C|       2010|     M|         20| 10000|Marketing|     20|\n",
            "|     5|   E|       2010|     M|         20| 12000|Marketing|     20|\n",
            "|     4|   D|       2005|     F|         40| 20000|       IT|     40|\n",
            "|     7|   G|       2015|     M|         40| 11000|       IT|     40|\n",
            "|     9|   I|       2012|     F|         40| 32000|       IT|     40|\n",
            "+------+----+-----------+------+-----------+------+---------+-------+\n",
            "\n"
          ]
        }
      ]
    },
    {
      "cell_type": "code",
      "source": [
        "# Outer Join\n",
        "\n",
        "empDF.join(deptDF,empDF.emp_dept_id ==  deptDF.dept_id,\"outer\").show()"
      ],
      "metadata": {
        "colab": {
          "base_uri": "https://localhost:8080/"
        },
        "id": "lEQYXdxCh9uM",
        "outputId": "24f6854a-9a5f-401a-92f0-0520879b670b"
      },
      "execution_count": 59,
      "outputs": [
        {
          "output_type": "stream",
          "name": "stdout",
          "text": [
            "+------+----+-----------+------+-----------+------+---------+-------+\n",
            "|emp_id|name|year_joined|gender|emp_dept_id|salary|dept_name|dept_id|\n",
            "+------+----+-----------+------+-----------+------+---------+-------+\n",
            "|     1|   A|       2018|     M|         10| 30000|  Finance|     10|\n",
            "|     6|   F|       2010|     M|         10| 28000|  Finance|     10|\n",
            "|     2|   B|       2010|     M|         30| 40000|    Sales|     30|\n",
            "|     8|   H|       2010|     F|         30| 22000|    Sales|     30|\n",
            "|    10|   J|       2010|     F|         30| 42000|    Sales|     30|\n",
            "|     3|   C|       2010|     M|         20| 10000|Marketing|     20|\n",
            "|     5|   E|       2010|     M|         20| 12000|Marketing|     20|\n",
            "|     4|   D|       2005|     F|         40| 20000|       IT|     40|\n",
            "|     7|   G|       2015|     M|         40| 11000|       IT|     40|\n",
            "|     9|   I|       2012|     F|         40| 32000|       IT|     40|\n",
            "+------+----+-----------+------+-----------+------+---------+-------+\n",
            "\n"
          ]
        }
      ]
    },
    {
      "cell_type": "code",
      "source": [
        "# Full Outer Join\n",
        "\n",
        "empDF.join(deptDF,empDF.emp_dept_id ==  deptDF.dept_id,\"fullouter\").show()"
      ],
      "metadata": {
        "colab": {
          "base_uri": "https://localhost:8080/"
        },
        "id": "1BBwGrF7iKoY",
        "outputId": "391fc8bb-c910-43b8-dbcd-36803a02737d"
      },
      "execution_count": 60,
      "outputs": [
        {
          "output_type": "stream",
          "name": "stdout",
          "text": [
            "+------+----+-----------+------+-----------+------+---------+-------+\n",
            "|emp_id|name|year_joined|gender|emp_dept_id|salary|dept_name|dept_id|\n",
            "+------+----+-----------+------+-----------+------+---------+-------+\n",
            "|     1|   A|       2018|     M|         10| 30000|  Finance|     10|\n",
            "|     6|   F|       2010|     M|         10| 28000|  Finance|     10|\n",
            "|     2|   B|       2010|     M|         30| 40000|    Sales|     30|\n",
            "|     8|   H|       2010|     F|         30| 22000|    Sales|     30|\n",
            "|    10|   J|       2010|     F|         30| 42000|    Sales|     30|\n",
            "|     3|   C|       2010|     M|         20| 10000|Marketing|     20|\n",
            "|     5|   E|       2010|     M|         20| 12000|Marketing|     20|\n",
            "|     4|   D|       2005|     F|         40| 20000|       IT|     40|\n",
            "|     7|   G|       2015|     M|         40| 11000|       IT|     40|\n",
            "|     9|   I|       2012|     F|         40| 32000|       IT|     40|\n",
            "+------+----+-----------+------+-----------+------+---------+-------+\n",
            "\n"
          ]
        }
      ]
    },
    {
      "cell_type": "code",
      "source": [
        "# Left Outer Join\n",
        "\n",
        "empDF.join(deptDF,empDF.emp_dept_id ==  deptDF.dept_id,\"leftouter\").show()"
      ],
      "metadata": {
        "colab": {
          "base_uri": "https://localhost:8080/"
        },
        "id": "Sfue46fRiyz1",
        "outputId": "33c065e6-2fea-45d5-8e8f-e28f2e187d75"
      },
      "execution_count": 61,
      "outputs": [
        {
          "output_type": "stream",
          "name": "stdout",
          "text": [
            "+------+----+-----------+------+-----------+------+---------+-------+\n",
            "|emp_id|name|year_joined|gender|emp_dept_id|salary|dept_name|dept_id|\n",
            "+------+----+-----------+------+-----------+------+---------+-------+\n",
            "|     1|   A|       2018|     M|         10| 30000|  Finance|     10|\n",
            "|     6|   F|       2010|     M|         10| 28000|  Finance|     10|\n",
            "|     2|   B|       2010|     M|         30| 40000|    Sales|     30|\n",
            "|     8|   H|       2010|     F|         30| 22000|    Sales|     30|\n",
            "|    10|   J|       2010|     F|         30| 42000|    Sales|     30|\n",
            "|     3|   C|       2010|     M|         20| 10000|Marketing|     20|\n",
            "|     5|   E|       2010|     M|         20| 12000|Marketing|     20|\n",
            "|     4|   D|       2005|     F|         40| 20000|       IT|     40|\n",
            "|     7|   G|       2015|     M|         40| 11000|       IT|     40|\n",
            "|     9|   I|       2012|     F|         40| 32000|       IT|     40|\n",
            "+------+----+-----------+------+-----------+------+---------+-------+\n",
            "\n"
          ]
        }
      ]
    },
    {
      "cell_type": "code",
      "source": [
        "# Right Outer Join\n",
        "\n",
        "empDF.join(deptDF,empDF.emp_dept_id ==  deptDF.dept_id,\"rightouter\").show()"
      ],
      "metadata": {
        "colab": {
          "base_uri": "https://localhost:8080/"
        },
        "id": "aGhC0qX7jDuA",
        "outputId": "7f887a7b-a2cc-499d-d40b-2eadcb2fa961"
      },
      "execution_count": 62,
      "outputs": [
        {
          "output_type": "stream",
          "name": "stdout",
          "text": [
            "+------+----+-----------+------+-----------+------+---------+-------+\n",
            "|emp_id|name|year_joined|gender|emp_dept_id|salary|dept_name|dept_id|\n",
            "+------+----+-----------+------+-----------+------+---------+-------+\n",
            "|     1|   A|       2018|     M|         10| 30000|  Finance|     10|\n",
            "|     6|   F|       2010|     M|         10| 28000|  Finance|     10|\n",
            "|     2|   B|       2010|     M|         30| 40000|    Sales|     30|\n",
            "|     8|   H|       2010|     F|         30| 22000|    Sales|     30|\n",
            "|    10|   J|       2010|     F|         30| 42000|    Sales|     30|\n",
            "|     3|   C|       2010|     M|         20| 10000|Marketing|     20|\n",
            "|     5|   E|       2010|     M|         20| 12000|Marketing|     20|\n",
            "|     4|   D|       2005|     F|         40| 20000|       IT|     40|\n",
            "|     7|   G|       2015|     M|         40| 11000|       IT|     40|\n",
            "|     9|   I|       2012|     F|         40| 32000|       IT|     40|\n",
            "+------+----+-----------+------+-----------+------+---------+-------+\n",
            "\n"
          ]
        }
      ]
    }
  ]
}